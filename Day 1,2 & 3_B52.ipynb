{
 "cells": [
  {
   "cell_type": "code",
   "execution_count": 4,
   "id": "80d7c8d9",
   "metadata": {},
   "outputs": [
    {
     "name": "stdout",
     "output_type": "stream",
     "text": [
      "Hello Phython\n"
     ]
    }
   ],
   "source": [
    " print (\"Hello Phython\")\n"
   ]
  },
  {
   "cell_type": "code",
   "execution_count": 5,
   "id": "91406234",
   "metadata": {},
   "outputs": [
    {
     "ename": "SyntaxError",
     "evalue": "invalid syntax (<ipython-input-5-f885b685e3ab>, line 1)",
     "output_type": "error",
     "traceback": [
      "\u001b[1;36m  File \u001b[1;32m\"<ipython-input-5-f885b685e3ab>\"\u001b[1;36m, line \u001b[1;32m1\u001b[0m\n\u001b[1;33m    first name\u001b[0m\n\u001b[1;37m          ^\u001b[0m\n\u001b[1;31mSyntaxError\u001b[0m\u001b[1;31m:\u001b[0m invalid syntax\n"
     ]
    }
   ],
   "source": [
    "first name      # rule 1"
   ]
  },
  {
   "cell_type": "code",
   "execution_count": null,
   "id": "d46b72ce",
   "metadata": {},
   "outputs": [],
   "source": [
    "Rules for declaring variables in Phython"
   ]
  },
  {
   "cell_type": "code",
   "execution_count": 7,
   "id": "779dbd8f",
   "metadata": {},
   "outputs": [],
   "source": [
    "Rule1: No name spaces while declaring the variable name"
   ]
  },
  {
   "cell_type": "code",
   "execution_count": null,
   "id": "e74c96da",
   "metadata": {},
   "outputs": [],
   "source": [
    "Rule2: A variable name should not start with a number"
   ]
  },
  {
   "cell_type": "code",
   "execution_count": null,
   "id": "4764c00f",
   "metadata": {},
   "outputs": [],
   "source": [
    "Rule3: A variable name should not contain any special character"
   ]
  },
  {
   "cell_type": "code",
   "execution_count": null,
   "id": "81e4a8dc",
   "metadata": {},
   "outputs": [],
   "source": [
    "# Introduction to datatypes"
   ]
  },
  {
   "cell_type": "code",
   "execution_count": null,
   "id": "9cb1eb71",
   "metadata": {},
   "outputs": [],
   "source": [
    "str, Number, list, tuple, dictionaries"
   ]
  },
  {
   "cell_type": "code",
   "execution_count": 9,
   "id": "ad5b2953",
   "metadata": {},
   "outputs": [],
   "source": [
    "# classification of datatypes"
   ]
  },
  {
   "cell_type": "code",
   "execution_count": null,
   "id": "1b9555de",
   "metadata": {},
   "outputs": [],
   "source": [
    "Mutable datatype, immutable datatype"
   ]
  },
  {
   "cell_type": "code",
   "execution_count": null,
   "id": "e9f0b2ad",
   "metadata": {},
   "outputs": [],
   "source": [
    "# Introduction to String Datatype"
   ]
  },
  {
   "cell_type": "code",
   "execution_count": null,
   "id": "e9a7de93",
   "metadata": {},
   "outputs": [],
   "source": [
    "3 types - single quote, double quote and triple quote"
   ]
  },
  {
   "cell_type": "code",
   "execution_count": null,
   "id": "f3a06a69",
   "metadata": {},
   "outputs": [],
   "source": [
    "# Introduction to String methods"
   ]
  },
  {
   "cell_type": "code",
   "execution_count": 11,
   "id": "008a3fa1",
   "metadata": {},
   "outputs": [
    {
     "data": {
      "text/plain": [
       "str"
      ]
     },
     "execution_count": 11,
     "metadata": {},
     "output_type": "execute_result"
    }
   ],
   "source": [
    "name =\"John\"\n",
    "type(name)"
   ]
  },
  {
   "cell_type": "code",
   "execution_count": 12,
   "id": "8dc0daae",
   "metadata": {},
   "outputs": [
    {
     "name": "stdout",
     "output_type": "stream",
     "text": [
      "rajesh robin\n"
     ]
    }
   ],
   "source": [
    "fullname =\"rajesh robin\"\n",
    "print(fullname)"
   ]
  },
  {
   "cell_type": "code",
   "execution_count": 13,
   "id": "c2bd12a3",
   "metadata": {},
   "outputs": [
    {
     "name": "stdout",
     "output_type": "stream",
     "text": [
      "Rajesh Robin\n"
     ]
    }
   ],
   "source": [
    "fullname =\"rajesh robin\"\n",
    "print(fullname.title())"
   ]
  },
  {
   "cell_type": "code",
   "execution_count": 14,
   "id": "17ce1a3f",
   "metadata": {},
   "outputs": [
    {
     "name": "stdout",
     "output_type": "stream",
     "text": [
      "RAJESH ROBIN\n"
     ]
    }
   ],
   "source": [
    "fullname =\"rajesh robin\"\n",
    "print(fullname.upper())"
   ]
  },
  {
   "cell_type": "code",
   "execution_count": null,
   "id": "23fe81b5",
   "metadata": {},
   "outputs": [],
   "source": []
  },
  {
   "cell_type": "code",
   "execution_count": null,
   "id": "c1d9970d",
   "metadata": {},
   "outputs": [],
   "source": [
    "# Introduction to f strings"
   ]
  },
  {
   "cell_type": "code",
   "execution_count": null,
   "id": "b889db97",
   "metadata": {},
   "outputs": [],
   "source": [
    "f \"customwords, {placeholder1} {placeholder2}.....{placeholdern}\""
   ]
  },
  {
   "cell_type": "code",
   "execution_count": 25,
   "id": "f78286bf",
   "metadata": {},
   "outputs": [
    {
     "name": "stdout",
     "output_type": "stream",
     "text": [
      "sachin jadhav\n"
     ]
    }
   ],
   "source": [
    "firstname='sachin'\n",
    "lastname='jadhav'    # I want fullname\n",
    "fullname=f\"{firstname} {lastname}\"\n",
    "print(fullname)"
   ]
  },
  {
   "cell_type": "code",
   "execution_count": 26,
   "id": "28386917",
   "metadata": {},
   "outputs": [
    {
     "name": "stdout",
     "output_type": "stream",
     "text": [
      "Sachin Jadhav\n"
     ]
    }
   ],
   "source": [
    "print(fullname.title())"
   ]
  },
  {
   "cell_type": "code",
   "execution_count": 27,
   "id": "eb36b6f4",
   "metadata": {},
   "outputs": [
    {
     "name": "stdout",
     "output_type": "stream",
     "text": [
      "keep up the good work, Sachin Jadhav\n"
     ]
    }
   ],
   "source": [
    "message=f\"keep up the good work, {fullname.title()}\"    # to appreciate sachin\n",
    "print(message)"
   ]
  },
  {
   "cell_type": "code",
   "execution_count": null,
   "id": "efc19892",
   "metadata": {},
   "outputs": [],
   "source": [
    "# Adding whitespaces to strings"
   ]
  },
  {
   "cell_type": "code",
   "execution_count": 30,
   "id": "44554986",
   "metadata": {},
   "outputs": [
    {
     "name": "stdout",
     "output_type": "stream",
     "text": [
      "favorite_languange:phythoncjavac++pascal\n"
     ]
    }
   ],
   "source": [
    "print(\"favorite_languange:phythoncjavac++pascal\")"
   ]
  },
  {
   "cell_type": "code",
   "execution_count": 31,
   "id": "2c21ee67",
   "metadata": {},
   "outputs": [
    {
     "name": "stdout",
     "output_type": "stream",
     "text": [
      "favorite_languange:\n",
      "phython\n",
      "c\n",
      "java\n",
      "c++\n",
      "pascal\n"
     ]
    }
   ],
   "source": [
    "print(\"favorite_languange:\\nphython\\nc\\njava\\nc++\\npascal\")   # \\n - line delimiter"
   ]
  },
  {
   "cell_type": "code",
   "execution_count": 32,
   "id": "528251e5",
   "metadata": {},
   "outputs": [
    {
     "name": "stdout",
     "output_type": "stream",
     "text": [
      "favorite_languange:\n",
      "\tphython\n",
      "\tc\n",
      "\tjava\n",
      "\tc++\n",
      "\tpascal\n"
     ]
    }
   ],
   "source": [
    "print(\"favorite_languange:\\n\\tphython\\n\\tc\\n\\tjava\\n\\tc++\\n\\tpascal\")    # \\t tab demiliter"
   ]
  },
  {
   "cell_type": "code",
   "execution_count": null,
   "id": "e885d31d",
   "metadata": {},
   "outputs": [],
   "source": [
    "# Removing white spaces from strings"
   ]
  },
  {
   "cell_type": "code",
   "execution_count": 33,
   "id": "90c147be",
   "metadata": {},
   "outputs": [
    {
     "name": "stdout",
     "output_type": "stream",
     "text": [
      "seetharam\n"
     ]
    }
   ],
   "source": [
    "name=\"seetharam\"\n",
    "print(name)"
   ]
  },
  {
   "cell_type": "code",
   "execution_count": 35,
   "id": "232ae378",
   "metadata": {},
   "outputs": [
    {
     "name": "stdout",
     "output_type": "stream",
     "text": [
      "seetharam\n"
     ]
    }
   ],
   "source": [
    "name1=\"    seetharam\"          # lstrip= leftstrip\n",
    "print(name1.lstrip())"
   ]
  },
  {
   "cell_type": "code",
   "execution_count": 37,
   "id": "bae71390",
   "metadata": {},
   "outputs": [
    {
     "name": "stdout",
     "output_type": "stream",
     "text": [
      "seetharam\n"
     ]
    }
   ],
   "source": [
    "name2=\"seetharam    \"            #rstrip = right strip\n",
    "print(name2.rstrip())"
   ]
  },
  {
   "cell_type": "code",
   "execution_count": 38,
   "id": "92140cf2",
   "metadata": {},
   "outputs": [
    {
     "name": "stdout",
     "output_type": "stream",
     "text": [
      "seetharam\n"
     ]
    }
   ],
   "source": [
    "name3=\"    seetharam\"             # strip on both sides\n",
    "print(name3.strip())"
   ]
  },
  {
   "cell_type": "code",
   "execution_count": null,
   "id": "ce87cde6",
   "metadata": {},
   "outputs": [],
   "source": []
  },
  {
   "cell_type": "code",
   "execution_count": null,
   "id": "71783ca0",
   "metadata": {},
   "outputs": [],
   "source": []
  },
  {
   "cell_type": "code",
   "execution_count": null,
   "id": "acf24195",
   "metadata": {},
   "outputs": [],
   "source": []
  },
  {
   "cell_type": "code",
   "execution_count": null,
   "id": "bb5d4dd9",
   "metadata": {},
   "outputs": [],
   "source": []
  },
  {
   "cell_type": "code",
   "execution_count": null,
   "id": "496d2ba5",
   "metadata": {},
   "outputs": [],
   "source": []
  },
  {
   "cell_type": "code",
   "execution_count": null,
   "id": "532272f4",
   "metadata": {},
   "outputs": [],
   "source": []
  },
  {
   "cell_type": "code",
   "execution_count": null,
   "id": "f0b3cacb",
   "metadata": {},
   "outputs": [],
   "source": []
  }
 ],
 "metadata": {
  "kernelspec": {
   "display_name": "Python 3",
   "language": "python",
   "name": "python3"
  },
  "language_info": {
   "codemirror_mode": {
    "name": "ipython",
    "version": 3
   },
   "file_extension": ".py",
   "mimetype": "text/x-python",
   "name": "python",
   "nbconvert_exporter": "python",
   "pygments_lexer": "ipython3",
   "version": "3.8.8"
  }
 },
 "nbformat": 4,
 "nbformat_minor": 5
}
